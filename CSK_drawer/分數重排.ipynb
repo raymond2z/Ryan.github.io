{
 "cells": [
  {
   "cell_type": "code",
   "execution_count": 16,
   "metadata": {},
   "outputs": [
    {
     "name": "stdout",
     "output_type": "stream",
     "text": [
      "學號  分數\n",
      "1\t60\n",
      "2\t70\n",
      "3\t0\n",
      "4\t40\n",
      "5\t60\n",
      "6\t50\n",
      "7\t10\n",
      "8\t10\n",
      "9\t50\n",
      "10\t10\n",
      "11\t30\n",
      "12\t70\n",
      "13\t0\n",
      "14\t60\n",
      "15\t30\n",
      "16\t30\n",
      "17\t10\n",
      "18\t40\n",
      "19\t50\n",
      "20\t60\n",
      "21\t40\n",
      "22\t0\n",
      "23\t70\n",
      "24\t20\n",
      "25\t0\n",
      "26\t80\n",
      "27\t60\n",
      "28\t50\n",
      "29\t80\n",
      "30\t80\n",
      "31\t60\n",
      "32\t20\n",
      "33\t80\n",
      "34\t30\n",
      "35\t60\n",
      "36\t20\n",
      "37\t70\n",
      "38\t40\n",
      "39\t60\n",
      "40\t20\n"
     ]
    }
   ],
   "source": [
    "# 原始資料\n",
    "data = \"\"\"\n",
    "31\t27\t1\t39\t60\n",
    "29\t33\t26\t30\t80\n",
    "12\t23\t37\t2\t70\n",
    "14\t5\t35\t20\t60\n",
    "6\t19\t28\t9\t50\n",
    "21\t4\t18\t38\t40\n",
    "11\t15\t34\t16\t30\n",
    "24\t36\t40\t32\t20\n",
    "7\t10\t17\t8\t10\n",
    "22\t25\t3\t13\t0\n",
    "\"\"\"\n",
    "\n",
    "# 將資料分割成行\n",
    "lines = data.strip().split('\\n')\n",
    "\n",
    "# 建立一個空列表用於存儲學號和分數\n",
    "student_scores = []\n",
    "\n",
    "# 遍歷每一行資料\n",
    "for line in lines:\n",
    "    # 分割每一行資料\n",
    "    parts = line.split('\\t')\n",
    "    # 獲取學號和分數\n",
    "    student_ids = parts[:4]  # 前四個數是學號\n",
    "    score = int(parts[4])  # 第五個數是分數\n",
    "    # 印出每個學號和分數\n",
    "    for student_id in student_ids:\n",
    "        student_scores.append((student_id, score))\n",
    "\n",
    "# 按學號排序學生資料\n",
    "sorted_student_scores = sorted(student_scores, key=lambda x: int(x[0]))\n",
    "\n",
    "# 印出結果\n",
    "print(\"學號  分數\")\n",
    "for student_id, score in sorted_student_scores:\n",
    "    print(f\"{student_id}\\t{score}\")\n"
   ]
  }
 ],
 "metadata": {
  "kernelspec": {
   "display_name": "Python 3",
   "language": "python",
   "name": "python3"
  },
  "language_info": {
   "codemirror_mode": {
    "name": "ipython",
    "version": 3
   },
   "file_extension": ".py",
   "mimetype": "text/x-python",
   "name": "python",
   "nbconvert_exporter": "python",
   "pygments_lexer": "ipython3",
   "version": "3.11.3"
  }
 },
 "nbformat": 4,
 "nbformat_minor": 2
}
